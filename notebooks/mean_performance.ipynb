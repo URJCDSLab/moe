{
 "cells": [
  {
   "cell_type": "code",
   "execution_count": 1,
   "id": "843ccbc3-8798-4e38-bffb-0983101f6390",
   "metadata": {},
   "outputs": [],
   "source": [
    "import pandas as pd\n",
    "df_mean = pd.read_parquet('../data/results/dfs_mean.parquet')\n",
    "df_sd = pd.read_parquet('../data/results/dfs_sd.parquet')"
   ]
  },
  {
   "cell_type": "code",
   "execution_count": 6,
   "id": "bd8dcefc-626f-45a4-8a9c-129e0db61a94",
   "metadata": {},
   "outputs": [
    {
     "data": {
      "text/plain": [
       "MOE SVM              0.811\n",
       "MOE KNN              0.808\n",
       "MOE DT               0.818\n",
       "Random Forest        0.798\n",
       "SVM                  0.805\n",
       "KNN                  0.783\n",
       "XGBoost              0.801\n",
       "Gradient Boosting    0.806\n",
       "Extra Trees          0.796\n",
       "dtype: float64"
      ]
     },
     "execution_count": 6,
     "metadata": {},
     "output_type": "execute_result"
    }
   ],
   "source": [
    "df_mean.mean().round(3)"
   ]
  },
  {
   "cell_type": "code",
   "execution_count": 7,
   "id": "30d2ba6e-5cb6-4a68-8709-ce76427e7c6e",
   "metadata": {},
   "outputs": [
    {
     "data": {
      "text/plain": [
       "MOE SVM              0.055\n",
       "MOE KNN              0.059\n",
       "MOE DT               0.058\n",
       "Random Forest        0.062\n",
       "SVM                  0.059\n",
       "KNN                  0.070\n",
       "XGBoost              0.061\n",
       "Gradient Boosting    0.059\n",
       "Extra Trees          0.060\n",
       "dtype: float64"
      ]
     },
     "execution_count": 7,
     "metadata": {},
     "output_type": "execute_result"
    }
   ],
   "source": [
    "df_sd.mean().round(3)"
   ]
  }
 ],
 "metadata": {
  "kernelspec": {
   "display_name": "Python [conda env:moe] *",
   "language": "python",
   "name": "conda-env-moe-py"
  },
  "language_info": {
   "codemirror_mode": {
    "name": "ipython",
    "version": 3
   },
   "file_extension": ".py",
   "mimetype": "text/x-python",
   "name": "python",
   "nbconvert_exporter": "python",
   "pygments_lexer": "ipython3",
   "version": "3.9.6"
  }
 },
 "nbformat": 4,
 "nbformat_minor": 5
}
