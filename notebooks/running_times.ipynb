{
 "cells": [
  {
   "cell_type": "code",
   "execution_count": 1,
   "id": "7c7ec404-fe79-4051-bef5-cc502b983671",
   "metadata": {},
   "outputs": [],
   "source": [
    "import json\n",
    "import pandas as pd\n",
    "import os\n",
    "import seaborn as sns\n",
    "import matplotlib.pyplot as plt"
   ]
  },
  {
   "cell_type": "code",
   "execution_count": 2,
   "id": "1aa76845-3404-4c6b-973f-9733bc66e01f",
   "metadata": {},
   "outputs": [],
   "source": [
    "exps = [i[:-5] for i in os.listdir('../data/results/times')]"
   ]
  },
  {
   "cell_type": "code",
   "execution_count": 3,
   "id": "8ad9b2d8-8b3e-43cd-b3dc-c49c00495b81",
   "metadata": {},
   "outputs": [],
   "source": [
    "running_times = pd.DataFrame(index = range(len(exps)*9), columns = ['dataset', 'method', 'time'])"
   ]
  },
  {
   "cell_type": "code",
   "execution_count": 4,
   "id": "7178e04f-6a79-409e-90b7-77e8e6b946c9",
   "metadata": {},
   "outputs": [],
   "source": [
    "i = 0\n",
    "for exp in exps:\n",
    "    with open(f'../data/results/times/{exp}.json', 'r') as fin:\n",
    "        params_info = json.load(fin)\n",
    "    for method in params_info.keys():\n",
    "        running_times.loc[i, 'dataset'] = exp\n",
    "        running_times.loc[i, 'method'] = method\n",
    "        running_times.loc[i, 'time'] = params_info[method]\n",
    "        i +=1"
   ]
  },
  {
   "cell_type": "code",
   "execution_count": 5,
   "id": "e93eb711-aee1-41db-91e6-cb59e7764531",
   "metadata": {},
   "outputs": [],
   "source": [
    "running_times.time = running_times.time.astype('float')"
   ]
  },
  {
   "cell_type": "code",
   "execution_count": 6,
   "id": "cd19d292-1327-40f3-a76e-578263a207ca",
   "metadata": {},
   "outputs": [
    {
     "data": {
      "image/png": "[encoded data removed]",
      "text/plain": [
       "<Figure size 720x432 with 1 Axes>"
      ]
     },
     "metadata": {
      "needs_background": "light"
     },
     "output_type": "display_data"
    }
   ],
   "source": [
    "# Initialize the figure with a logarithmic x axis\n",
    "f, ax = plt.subplots(figsize=(10, 6))\n",
    "ax.set_xscale(\"log\")\n",
    "\n",
    "# Plot the orbital period with horizontal boxes\n",
    "sns.boxplot(x=\"time\", y=\"method\", data=running_times,\n",
    "            whis=[0, 100], width=.6, palette=\"vlag\");\n",
    "\n",
    "# Add in points to show each observation\n",
    "# sns.stripplot(x=\"time\", y=\"method\", data=running_times,\n",
    "#               size=4, color=\".3\", linewidth=0);\n",
    "# Tweak the visual presentation\n",
    "ax.xaxis.grid(True)\n",
    "ax.set(ylabel=\"\")\n",
    "sns.despine(trim=False, left=False);"
   ]
  }
 ],
 "metadata": {
  "kernelspec": {
   "display_name": "Python [conda env:moe] *",
   "language": "python",
   "name": "conda-env-moe-py"
  },
  "language_info": {
   "codemirror_mode": {
    "name": "ipython",
    "version": 3
   },
   "file_extension": ".py",
   "mimetype": "text/x-python",
   "name": "python",
   "nbconvert_exporter": "python",
   "pygments_lexer": "ipython3",
   "version": "3.9.6"
  }
 },
 "nbformat": 4,
 "nbformat_minor": 5
}
